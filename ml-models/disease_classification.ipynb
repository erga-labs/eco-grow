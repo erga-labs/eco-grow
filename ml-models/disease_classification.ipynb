{
 "cells": [
  {
   "cell_type": "code",
   "execution_count": 1,
   "metadata": {},
   "outputs": [],
   "source": [
    "import os\n",
    "os.environ['KERAS_BACKEND'] = 'torch'\n",
    "# os.environ['CUDA_LAUNCH_BLOCKING'] = '1'\n",
    "\n",
    "import torch\n",
    "from keras import layers, models\n",
    "from torch.utils.data import DataLoader\n",
    "from torchvision.datasets import ImageFolder\n",
    "from torchvision.transforms import v2 as transforms\n"
   ]
  },
  {
   "cell_type": "markdown",
   "metadata": {},
   "source": []
  },
  {
   "cell_type": "code",
   "execution_count": 2,
   "metadata": {},
   "outputs": [
    {
     "data": {
      "text/plain": [
       "'torch'"
      ]
     },
     "execution_count": 2,
     "metadata": {},
     "output_type": "execute_result"
    }
   ],
   "source": [
    "import keras\n",
    "keras.backend.backend()"
   ]
  },
  {
   "cell_type": "code",
   "execution_count": 3,
   "metadata": {},
   "outputs": [
    {
     "name": "stdout",
     "output_type": "stream",
     "text": [
      "CUDA available: True\n"
     ]
    }
   ],
   "source": [
    "print('CUDA available:', torch.cuda.is_available())"
   ]
  },
  {
   "cell_type": "code",
   "execution_count": 4,
   "metadata": {},
   "outputs": [
    {
     "name": "stdout",
     "output_type": "stream",
     "text": [
      "Squash doesnt meet criteria: ['Powdery_mildew']\n",
      "Soybean doesnt meet criteria: ['healthy']\n",
      "Blueberry doesnt meet criteria: ['healthy']\n",
      "Raspberry doesnt meet criteria: ['healthy']\n",
      "Orange doesnt meet criteria: ['Haunglongbing_(Citrus_greening)']\n",
      "\n",
      "Cherry_(including_sour) 2 ['healthy', 'Powdery_mildew']\n",
      "Tomato 10 ['Bacterial_spot', 'Tomato_mosaic_virus', 'Late_blight', 'Target_Spot', 'Tomato_Yellow_Leaf_Curl_Virus', 'Leaf_Mold', 'Early_blight', 'healthy', 'Septoria_leaf_spot', 'Spider_mites Two-spotted_spider_mite']\n",
      "Strawberry 2 ['Leaf_scorch', 'healthy']\n",
      "Corn_(maize) 4 ['Common_rust_', 'Northern_Leaf_Blight', 'healthy', 'Cercospora_leaf_spot Gray_leaf_spot']\n",
      "Apple 4 ['Apple_scab', 'Black_rot', 'healthy', 'Cedar_apple_rust']\n",
      "Grape 4 ['Black_rot', 'Leaf_blight_(Isariopsis_Leaf_Spot)', 'healthy', 'Esca_(Black_Measles)']\n",
      "Potato 3 ['healthy', 'Late_blight', 'Early_blight']\n",
      "Pepper,_bell 2 ['healthy', 'Bacterial_spot']\n",
      "Peach 2 ['healthy', 'Bacterial_spot']\n"
     ]
    }
   ],
   "source": [
    "classes = {}\n",
    "\n",
    "for dir_name in os.listdir(\"dataset/disease-classification\"):\n",
    "    crop, class_name = dir_name.split(\"___\")\n",
    "    classes[crop] = classes.get(crop, []) + [class_name]\n",
    "\n",
    "\n",
    "chosen_classes = {}\n",
    "for crop, class_names in classes.items():\n",
    "    if 'healthy' in class_names and len(class_names) > 1:\n",
    "        chosen_classes[crop] = class_names\n",
    "    else:\n",
    "        print(crop, \"doesnt meet criteria:\", class_names)\n",
    "\n",
    "print()\n",
    "for crop, class_names in chosen_classes.items():\n",
    "    print(crop, len(class_names), class_names)\n"
   ]
  },
  {
   "cell_type": "code",
   "execution_count": 5,
   "metadata": {},
   "outputs": [],
   "source": [
    "\n",
    "def make_model(crop):\n",
    "    model = models.Sequential(\n",
    "        name=f\"model_for_{crop}\",\n",
    "        layers=[\n",
    "            layers.Input(shape=(3, 256, 256)),\n",
    "            # Block 1\n",
    "            layers.Conv2D(32, kernel_size=(3, 3), activation=\"relu\"),\n",
    "            layers.MaxPooling2D(pool_size=(2, 2)),\n",
    "            # Block 2\n",
    "            layers.Conv2D(64, kernel_size=(3, 3), activation=\"relu\"),\n",
    "            layers.MaxPooling2D(pool_size=(2, 2)),\n",
    "            # Block 3\n",
    "            layers.Conv2D(128, kernel_size=(3, 3), activation=\"relu\"),\n",
    "            layers.MaxPooling2D(pool_size=(2, 2)),\n",
    "            # Flatten\n",
    "            layers.Flatten(),\n",
    "            # Dense\n",
    "            layers.Dense(512, activation=\"relu\"),\n",
    "            layers.Dense(128, activation=\"relu\"),\n",
    "            layers.Dense(1, activation=\"sigmoid\"),\n",
    "        ]\n",
    "    )\n",
    "    model.compile(\n",
    "        optimizer=\"adam\",\n",
    "        loss=\"binary_crossentropy\",\n",
    "        metrics=[\"accuracy\"],\n",
    "    )\n",
    "\n",
    "    # model.summary()\n",
    "    return model"
   ]
  },
  {
   "cell_type": "code",
   "execution_count": 6,
   "metadata": {},
   "outputs": [],
   "source": [
    "\n",
    "def make_dataloader_factory(crop):\n",
    "    def is_valid_file(filepath):\n",
    "        return f'{crop}___' in filepath\n",
    "\n",
    "    dataset = ImageFolder(\n",
    "        root=\"dataset/disease-classification/\",\n",
    "        transform=transforms.Compose([\n",
    "            transforms.ToImage(),\n",
    "            transforms.ToDtype(torch.uint8),\n",
    "            transforms.RandomHorizontalFlip(),\n",
    "\n",
    "            transforms.RandomPosterize(bits=4, p=0.3),\n",
    "            transforms.RandomPosterize(bits=5, p=0.3),\n",
    "            transforms.RandomAffine(degrees=180, translate=(0.1, 0.5), scale=(0.6, 1.4)),\n",
    "            transforms.RandomAutocontrast(),\n",
    "            transforms.RandomAdjustSharpness(sharpness_factor=0.6, p=0.2),\n",
    "            transforms.RandomAdjustSharpness(sharpness_factor=1.4, p=0.2),\n",
    "\n",
    "            transforms.ToDtype(torch.float32, scale=True),\n",
    "        ]),\n",
    "        is_valid_file=is_valid_file,\n",
    "        allow_empty=True,\n",
    "    )\n",
    "\n",
    "    print(f\"Number of samples for {crop}: {len(dataset.samples)}\")\n",
    "\n",
    "    def factory(batch_size):\n",
    "        dataloader = torch.utils.data.DataLoader(\n",
    "            dataset=dataset,\n",
    "            batch_size=batch_size,\n",
    "            shuffle=True,\n",
    "            num_workers=8,\n",
    "        )\n",
    "        return dataloader\n",
    "\n",
    "    return factory, len(dataset.samples)"
   ]
  },
  {
   "cell_type": "code",
   "execution_count": 7,
   "metadata": {},
   "outputs": [],
   "source": [
    "\n",
    "def dataloader_wrapper(factory, batch_size, repeat):\n",
    "    dataloader = factory(batch_size)\n",
    "    for _ in range(repeat):\n",
    "        for imgs, labels in dataloader:\n",
    "            labels[labels == dataloader.dataset.class_to_idx[f\"{crop}___healthy\"]] = 0.0\n",
    "            labels[labels != dataloader.dataset.class_to_idx[f\"{crop}___healthy\"]] = 1.0\n",
    "            yield imgs, labels\n",
    "\n",
    "\n",
    "def train_model(crop, batch_size=32, dataset_repeat=5, epochs=3):\n",
    "    model = make_model(crop)\n",
    "    dataloader_factory, num_samples = make_dataloader_factory(crop)\n",
    "\n",
    "    steps_per_epoch = num_samples * dataset_repeat // batch_size // epochs\n",
    "\n",
    "    model.fit(\n",
    "        dataloader_wrapper(dataloader_factory, batch_size, dataset_repeat),\n",
    "        steps_per_epoch=steps_per_epoch,\n",
    "        epochs=epochs,\n",
    "    )\n",
    "    return model"
   ]
  },
  {
   "cell_type": "code",
   "execution_count": 8,
   "metadata": {},
   "outputs": [
    {
     "name": "stdout",
     "output_type": "stream",
     "text": [
      "Number of samples for Apple: 7771\n",
      "\u001b[1m728/728\u001b[0m \u001b[32m━━━━━━━━━━━━━━━━━━━━\u001b[0m\u001b[37m\u001b[0m \u001b[1m100s\u001b[0m 136ms/step - accuracy: 0.9951 - loss: 0.0068\n"
     ]
    },
    {
     "name": "stderr",
     "output_type": "stream",
     "text": [
      "2024-12-17 01:26:45.075464: E external/local_xla/xla/stream_executor/cuda/cuda_fft.cc:477] Unable to register cuFFT factory: Attempting to register factory for plugin cuFFT when one has already been registered\n",
      "WARNING: All log messages before absl::InitializeLog() is called are written to STDERR\n",
      "E0000 00:00:1734379005.090059  609712 cuda_dnn.cc:8310] Unable to register cuDNN factory: Attempting to register factory for plugin cuDNN when one has already been registered\n",
      "E0000 00:00:1734379005.094293  609712 cuda_blas.cc:1418] Unable to register cuBLAS factory: Attempting to register factory for plugin cuBLAS when one has already been registered\n",
      "2024-12-17 01:26:45.110677: I tensorflow/core/platform/cpu_feature_guard.cc:210] This TensorFlow binary is optimized to use available CPU instructions in performance-critical operations.\n",
      "To enable the following instructions: AVX2 FMA, in other operations, rebuild TensorFlow with the appropriate compiler flags.\n"
     ]
    },
    {
     "name": "stdout",
     "output_type": "stream",
     "text": [
      "Number of samples for Cherry_(including_sour): 3509\n",
      "\u001b[1m328/328\u001b[0m \u001b[32m━━━━━━━━━━━━━━━━━━━━\u001b[0m\u001b[37m\u001b[0m \u001b[1m44s\u001b[0m 133ms/step - accuracy: 0.9879 - loss: 0.0135\n",
      "Number of samples for Corn_(maize): 7316\n",
      "\u001b[1m685/685\u001b[0m \u001b[32m━━━━━━━━━━━━━━━━━━━━\u001b[0m\u001b[37m\u001b[0m \u001b[1m92s\u001b[0m 134ms/step - accuracy: 0.9913 - loss: 0.0073\n",
      "Number of samples for Grape: 7222\n",
      "\u001b[1m677/677\u001b[0m \u001b[32m━━━━━━━━━━━━━━━━━━━━\u001b[0m\u001b[37m\u001b[0m \u001b[1m93s\u001b[0m 137ms/step - accuracy: 0.9899 - loss: 0.0078\n",
      "Number of samples for Peach: 3566\n",
      "\u001b[1m334/334\u001b[0m \u001b[32m━━━━━━━━━━━━━━━━━━━━\u001b[0m\u001b[37m\u001b[0m \u001b[1m45s\u001b[0m 135ms/step - accuracy: 0.9845 - loss: 0.0133\n",
      "Number of samples for Pepper,_bell: 3901\n",
      "\u001b[1m365/365\u001b[0m \u001b[32m━━━━━━━━━━━━━━━━━━━━\u001b[0m\u001b[37m\u001b[0m \u001b[1m49s\u001b[0m 134ms/step - accuracy: 0.9828 - loss: 0.0129\n",
      "Number of samples for Potato: 5702\n",
      "\u001b[1m534/534\u001b[0m \u001b[32m━━━━━━━━━━━━━━━━━━━━\u001b[0m\u001b[37m\u001b[0m \u001b[1m71s\u001b[0m 132ms/step - accuracy: 0.9980 - loss: 0.0087\n",
      "Number of samples for Strawberry: 3598\n",
      "\u001b[1m337/337\u001b[0m \u001b[32m━━━━━━━━━━━━━━━━━━━━\u001b[0m\u001b[37m\u001b[0m \u001b[1m46s\u001b[0m 135ms/step - accuracy: 0.9917 - loss: 0.0132\n",
      "Number of samples for Tomato: 18345\n",
      "\u001b[1m1719/1719\u001b[0m \u001b[32m━━━━━━━━━━━━━━━━━━━━\u001b[0m\u001b[37m\u001b[0m \u001b[1m282s\u001b[0m 164ms/step - accuracy: 0.9953 - loss: 0.0035\n"
     ]
    }
   ],
   "source": [
    "crop_to_filename_dict = {\n",
    "    'Apple': 'apple',\n",
    "    'Cherry_(including_sour)': 'cherry',\n",
    "    'Corn_(maize)': 'corn',\n",
    "    'Grape': 'grape',\n",
    "    'Peach': 'peach',\n",
    "    'Pepper,_bell': 'pepper-bell',\n",
    "    'Potato': 'potato',\n",
    "    'Strawberry': 'strawberry',\n",
    "    'Tomato': 'tomato',\n",
    "}\n",
    "\n",
    "for crop, filename in crop_to_filename_dict.items():\n",
    "    m = train_model(crop, dataset_repeat=3, epochs=1)\n",
    "    m.save(f\"saved-models/disease-classification/{filename}.keras\")\n",
    "\n",
    "    # Delete Model\n",
    "    del m\n",
    "\n",
    "    # Clear GPU Memory\n",
    "    keras.backend.clear_session()\n",
    "\n",
    "    # Remove cached tensors\n",
    "    torch.cuda.empty_cache()"
   ]
  }
 ],
 "metadata": {
  "kernelspec": {
   "display_name": "mlvenv",
   "language": "python",
   "name": "python3"
  },
  "language_info": {
   "codemirror_mode": {
    "name": "ipython",
    "version": 3
   },
   "file_extension": ".py",
   "mimetype": "text/x-python",
   "name": "python",
   "nbconvert_exporter": "python",
   "pygments_lexer": "ipython3",
   "version": "3.12.3"
  }
 },
 "nbformat": 4,
 "nbformat_minor": 2
}
